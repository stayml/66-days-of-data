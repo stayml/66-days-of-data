{
 "cells": [
  {
   "cell_type": "markdown",
   "id": "48cbeb6f",
   "metadata": {},
   "source": [
    "# List Comprehensions\n",
    "\n",
    "\n"
   ]
  },
  {
   "cell_type": "markdown",
   "id": "d77d983b",
   "metadata": {},
   "source": [
    "![title](listcomprehensions.png)"
   ]
  },
  {
   "cell_type": "code",
   "execution_count": 21,
   "id": "c153a29f",
   "metadata": {},
   "outputs": [
    {
     "data": {
      "text/plain": [
       "[0, 1, 2, 3, 4, 5, 6, 7, 8, 9]"
      ]
     },
     "execution_count": 21,
     "metadata": {},
     "output_type": "execute_result"
    }
   ],
   "source": [
    "[a for a in range(10)]"
   ]
  },
  {
   "cell_type": "code",
   "execution_count": 23,
   "id": "49f9142c",
   "metadata": {},
   "outputs": [
    {
     "data": {
      "text/plain": [
       "[0, 1, 4, 9, 16]"
      ]
     },
     "execution_count": 23,
     "metadata": {},
     "output_type": "execute_result"
    }
   ],
   "source": [
    "[a**2 for a in range(5)]"
   ]
  },
  {
   "cell_type": "code",
   "execution_count": 26,
   "id": "ad0f623d",
   "metadata": {},
   "outputs": [
    {
     "data": {
      "text/plain": [
       "[0, 2, 4, 6, 8, 10, 12, 14, 16, 18, 20]"
      ]
     },
     "execution_count": 26,
     "metadata": {},
     "output_type": "execute_result"
    }
   ],
   "source": [
    "[a for a in range(21) if a%2==0]"
   ]
  },
  {
   "cell_type": "code",
   "execution_count": 27,
   "id": "5bf542bb",
   "metadata": {},
   "outputs": [
    {
     "data": {
      "text/plain": [
       "[2, 6, 10, 14, 18, 22, 26, 30, 34, 38, 42, 46, 50, 54, 58]"
      ]
     },
     "execution_count": 27,
     "metadata": {},
     "output_type": "execute_result"
    }
   ],
   "source": [
    "[a for a in range(60) if a%2==0 and a%4 != 0]"
   ]
  },
  {
   "cell_type": "code",
   "execution_count": 33,
   "id": "7d2528f9",
   "metadata": {},
   "outputs": [
    {
     "data": {
      "text/plain": [
       "['h', 'p', 'i', 'c', 'd', 'y', 't']"
      ]
     },
     "execution_count": 33,
     "metadata": {},
     "output_type": "execute_result"
    }
   ],
   "source": [
    "sentence = \"Hey! Python is cool, don't you think?\"\n",
    "[c[0] for c in sentence.lower().split()]"
   ]
  },
  {
   "cell_type": "code",
   "execution_count": 36,
   "id": "a829412f",
   "metadata": {},
   "outputs": [
    {
     "data": {
      "text/plain": [
       "{'a', 'e', 'i', 'o', 'u'}"
      ]
     },
     "execution_count": 36,
     "metadata": {},
     "output_type": "execute_result"
    }
   ],
   "source": [
    "sentence = 'hey are you interested or not'\n",
    "set(v for v in sentence if v in 'aeiou')"
   ]
  },
  {
   "cell_type": "code",
   "execution_count": 47,
   "id": "616072aa",
   "metadata": {},
   "outputs": [
    {
     "data": {
      "text/plain": [
       "{'a': 1, 'b': 2}"
      ]
     },
     "execution_count": 47,
     "metadata": {},
     "output_type": "execute_result"
    }
   ],
   "source": [
    "{c:v for c,v in [('a',1),('b',2)]}"
   ]
  },
  {
   "cell_type": "code",
   "execution_count": 49,
   "id": "0eb2fb0d",
   "metadata": {},
   "outputs": [
    {
     "data": {
      "text/plain": [
       "\"Hey! Pyth0n is c00l, d0n't y0u think?\""
      ]
     },
     "execution_count": 49,
     "metadata": {},
     "output_type": "execute_result"
    }
   ],
   "source": [
    "''.join(c if c not in 'o' else '0' for c in sentence)"
   ]
  },
  {
   "cell_type": "code",
   "execution_count": 54,
   "id": "4b75d834",
   "metadata": {},
   "outputs": [
    {
     "data": {
      "text/plain": [
       "[(1, 99), (1, 9), (2, 99), (2, 9), (3, 99), (3, 9)]"
      ]
     },
     "execution_count": 54,
     "metadata": {},
     "output_type": "execute_result"
    }
   ],
   "source": [
    "level1 = [1,2,3]\n",
    "level2 = [99,9]\n",
    "[(l1, l2) for l1 in level1 for l2 in level2]"
   ]
  },
  {
   "cell_type": "code",
   "execution_count": 56,
   "id": "38db899c",
   "metadata": {},
   "outputs": [
    {
     "data": {
      "text/plain": [
       "[('cat', 'gata'), ('rage', 'raiva')]"
      ]
     },
     "execution_count": 56,
     "metadata": {},
     "output_type": "execute_result"
    }
   ],
   "source": [
    "portuguese = ['gata', 'raiva']\n",
    "english = ['cat', 'rage']\n",
    "[(eng, pt) for pt, eng in zip(portuguese, english)]"
   ]
  },
  {
   "cell_type": "code",
   "execution_count": null,
   "id": "cbe5b547",
   "metadata": {},
   "outputs": [],
   "source": []
  }
 ],
 "metadata": {
  "kernelspec": {
   "display_name": "Python 3",
   "language": "python",
   "name": "python3"
  },
  "language_info": {
   "codemirror_mode": {
    "name": "ipython",
    "version": 3
   },
   "file_extension": ".py",
   "mimetype": "text/x-python",
   "name": "python",
   "nbconvert_exporter": "python",
   "pygments_lexer": "ipython3",
   "version": "3.8.8"
  }
 },
 "nbformat": 4,
 "nbformat_minor": 5
}
